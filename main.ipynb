{
 "cells": [
  {
   "cell_type": "code",
   "execution_count": 33,
   "id": "23a72719",
   "metadata": {},
   "outputs": [],
   "source": [
    "import requests\n",
    "from bs4 import BeautifulSoup\n",
    "import pandas as pd\n",
    "\n",
    "url_list = []\n",
    "price_list = []\n",
    "discount_list = []\n",
    "brand_name_list = []\n",
    "discription_list = []\n",
    "\n",
    "for n in range(1, 31):\n",
    "    url = f\"https://www.flipkart.com/search?q=shoes&otracker=search&otracker1=search&marketplace=FLIPKART&as-show=on&as=off&page={n}\"\n",
    "\n",
    "    code = requests.get(url)\n",
    "    soup = BeautifulSoup(code.text)\n",
    "\n",
    "    card = soup.select('._1sdMkc')\n",
    "    for item in card:\n",
    "        url = item.select_one(\"._53J4C-\")\n",
    "        url_list.append(url.attrs['src']) if url else url_list.append(None)\n",
    "\n",
    "        brand_name = item.select_one('.syl9yP')\n",
    "        brand_name_list.append(brand_name.text) if brand_name else brand_name_list.append(None)\n",
    "\n",
    "        discount = item.select_one('.UkUFwK')\n",
    "        discount_list.append(discount.text) if discount else discount_list.append(None)\n",
    "\n",
    "        price = item.select_one('.Nx9bqj')\n",
    "        price_list.append(price.text) if price else price_list.append(None)\n",
    "\n",
    "        description = item.select_one('.WKTcLC')\n",
    "        discription_list.append(description.text) if description else discription_list.append(None)\n",
    "\n",
    "\n",
    "shoes_data = pd.DataFrame(\n",
    "    {\n",
    "        \"url\"    :    url_list,\n",
    "        \"price\"    :    price_list,\n",
    "        \"discount\"    :    discount_list,\n",
    "        \"brand\"    :    brand_name_list,\n",
    "        \"discription\"    :    discription_list\n",
    "    }\n",
    ")\n",
    "\n",
    "shoes_data.to_excel('shoes.xlsx')\n"
   ]
  }
 ],
 "metadata": {
  "kernelspec": {
   "display_name": "Python 3",
   "language": "python",
   "name": "python3"
  },
  "language_info": {
   "codemirror_mode": {
    "name": "ipython",
    "version": 3
   },
   "file_extension": ".py",
   "mimetype": "text/x-python",
   "name": "python",
   "nbconvert_exporter": "python",
   "pygments_lexer": "ipython3",
   "version": "3.13.2"
  }
 },
 "nbformat": 4,
 "nbformat_minor": 5
}
