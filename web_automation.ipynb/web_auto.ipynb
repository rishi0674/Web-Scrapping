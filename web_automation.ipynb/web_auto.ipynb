{
 "cells": [
  {
   "cell_type": "code",
   "execution_count": 38,
   "id": "5dc6c4ff",
   "metadata": {},
   "outputs": [],
   "source": [
    "from selenium import webdriver\n",
    "from selenium.webdriver.common.by import By\n",
    "from selenium.webdriver.support.ui import Select\n",
    "import time\n",
    "import pandas as pd\n",
    "\n",
    "df = pd.read_excel('products.xlsx')\n",
    "df['MFG Date'] = pd.to_datetime(df['MFG Date'])\n",
    "# Format to dd-mm-yyyy\n",
    "df['MFG Date'] = df['MFG Date'].dt.strftime('%d-%m-%Y')\n",
    "\n",
    "# Set up the Chrome WebDriver\n",
    "driver = webdriver.Chrome()  # Make sure chromedriver is in PATH\n",
    "\n",
    "# Open the local Flask app\n",
    "\n",
    "\n",
    "for index, row in df.iterrows():\n",
    "    driver.get(\"http://127.0.0.1:5000\")\n",
    "    # Fill in the form\n",
    "    driver.find_element(By.NAME, \"productName\").send_keys(row['Product Name'])\n",
    "    driver.find_element(By.NAME, \"price\").send_keys(row['Price (₹)'])\n",
    "    driver.find_element(By.NAME, \"mfgDate\").send_keys(row['MFG Date'])\n",
    "\n",
    "    # Select dropdown option\n",
    "    Select(driver.find_element(By.NAME, \"category\")).select_by_value(row['Category'])\n",
    "\n",
    "    # Click \"Yes\" for recyclable\n",
    "    driver.find_element(By.XPATH, f\"//input[@name='recyclable' and @value='{row['Recyclable']}']\").click()\n",
    "    # \n",
    "    # Submit the form\n",
    "    driver.find_element(By.XPATH, \"//button[@type='submit']\").click()\n",
    "\n",
    "\n",
    "    # Wait to view result\n",
    "    # time.sleep(3)\n",
    "\n",
    "    # Optional: Print confirmation message from page\n",
    "    # print(driver.page_source)\n",
    "\n",
    "# Close browser\n",
    "driver.quit()\n"
   ]
  }
 ],
 "metadata": {
  "kernelspec": {
   "display_name": "Python 3",
   "language": "python",
   "name": "python3"
  },
  "language_info": {
   "codemirror_mode": {
    "name": "ipython",
    "version": 3
   },
   "file_extension": ".py",
   "mimetype": "text/x-python",
   "name": "python",
   "nbconvert_exporter": "python",
   "pygments_lexer": "ipython3",
   "version": "3.13.2"
  }
 },
 "nbformat": 4,
 "nbformat_minor": 5
}
